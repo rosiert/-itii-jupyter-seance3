{
 "cells": [
  {
   "cell_type": "markdown",
   "metadata": {},
   "source": [
    "# Ex1: Rectangle \n",
    "* Ecrire une classe Rectangle en langage Python, permettant de construire un rectangle dotée d’attributs longueur et largeur.\n",
    "\n",
    "* Créer une méthode Perimetre() permettant de calculer le périmètre du rectangle et une méthode Surface() permettant de calculer la surface du rectangle\n",
    "* Créer les getters et setters.\n",
    "* Créer une classe fille Parallelepipede héritant de la classe Rectangle et dotée en plus d’un attribut hauteur et d’une autre méthode Volume() permettant de calculer le volume du Parallélépipède.\n",
    "\n"
   ]
  },
  {
   "cell_type": "code",
   "execution_count": 5,
   "metadata": {},
   "outputs": [
    {
     "name": "stdout",
     "output_type": "stream",
     "text": [
      "10\n",
      "20\n",
      "48\n",
      "80\n",
      "####################################################################################################\n",
      "Le parallelelipede de longueur 10, de largeur 4 et de hauteur 6 a un volume de 240.\n"
     ]
    }
   ],
   "source": [
    "class Rectangle:\n",
    "    \n",
    "    def __init__(self,long,larg):\n",
    "        self.longueur = long\n",
    "        self.largeur  = larg\n",
    "        \n",
    "    def __str__(self):\n",
    "        return f\"Le rectangle de longueur {self.longueur} et de largeur {self.largeur} a une surface de \"\\\n",
    "                f\"{self.Surface()} et un périmètre de {self.Perimetre()}.\"\n",
    "        \n",
    "    def Perimetre(self):\n",
    "        return 2*self.longueur + 2*self.largeur\n",
    "    \n",
    "    def Surface(self):\n",
    "        return self.longueur * self.largeur\n",
    "    \n",
    "    def get_longueur(self):\n",
    "        return self.longueur\n",
    "    \n",
    "    def get_largeur(self):\n",
    "        return self.largeur\n",
    "    \n",
    "    def set_longueur(self,l):\n",
    "        self.longueur = l\n",
    "        \n",
    "    def set_largeur(self,l):\n",
    "        self.largeur = l\n",
    "        \n",
    "MyRect = Rectangle(10,4)\n",
    "print(MyRect.get_longueur())\n",
    "MyRect.set_longueur(20)\n",
    "print(MyRect.get_longueur())\n",
    "print(MyRect.Perimetre())\n",
    "print(MyRect.Surface())\n",
    "#print(MyRect)\n",
    "\n",
    "print(\"#\"*100)\n",
    "\n",
    "class Parallelepipede(Rectangle):\n",
    "    \n",
    "    def __init__(self,long,larg,haut):\n",
    "        self.longueur = long\n",
    "        self.largeur  = larg\n",
    "        self.hauteur = haut\n",
    "    \n",
    "    def set_hauteur(self,haut):\n",
    "        self.hauteur = haut\n",
    "        \n",
    "    def Volume(self):\n",
    "        return self.Surface()*self.hauteur\n",
    "        \n",
    "    def __str__(self):\n",
    "        return f\"Le parallelelipede de longueur {self.longueur}, de largeur {self.largeur} et de hauteur \" \\\n",
    "                f\"{self.hauteur} a un volume de {self.Volume()}.\"   \n",
    "        \n",
    "MyVol = Parallelepipede(10,4,5)\n",
    "MyVol.set_hauteur(6)\n",
    "print(MyVol)"
   ]
  },
  {
   "cell_type": "markdown",
   "metadata": {},
   "source": [
    "# Ex2 : Vecteur\n",
    "Déﬁnir une classe Vecteur2D avec un constructeur fournissant les coordonnées par défaut d’un vecteur du plan (par exemple : x = 0 et y = 0).\n",
    "\n",
    "Enrichissez la classe Vecteur2D  en lui ajoutant une méthode d’affichage et une méthode de surcharge d’addition de deux vecteurs du plan.\n",
    "\n",
    "\n",
    "\n",
    "\n"
   ]
  },
  {
   "cell_type": "code",
   "execution_count": 7,
   "metadata": {},
   "outputs": [
    {
     "name": "stdout",
     "output_type": "stream",
     "text": [
      "( 5 ; 11 )\n"
     ]
    }
   ],
   "source": [
    "class Vecteur2D:\n",
    "    \n",
    "    def __init__(self,xcoord,ycoord):\n",
    "        self.x = xcoord\n",
    "        self.y = ycoord\n",
    "    \n",
    "    def affiche(self):\n",
    "        print(\"(\",self.x,\";\",self.y,\")\")\n",
    "        \n",
    "    def __add__(vect1,vect2):\n",
    "        \" Surcharge de l'opérateur addition \"\n",
    "        return Vecteur2D(vect1.x + vect2.x, vect1.y + vect2.y)\n",
    "\n",
    "MyVect1 = Vecteur2D(5,10)\n",
    "#MyVect1.affiche()\n",
    "MyVect2 = Vecteur2D(0,1)\n",
    "#MyVect2.affiche()\n",
    "\n",
    "MyVect3 = MyVect1 + MyVect2\n",
    "MyVect3.affiche()"
   ]
  },
  {
   "cell_type": "markdown",
   "metadata": {},
   "source": [
    "# Ex3 : Pile et File\n",
    "Implanter des classes Pile et File utilisant les listes comme structure de données interne et respectant l’interface suivante"
   ]
  },
  {
   "cell_type": "code",
   "execution_count": 83,
   "metadata": {},
   "outputs": [],
   "source": [
    "class Base(object):\n",
    "    def pop(self):\n",
    "        pass\n",
    "    def push(self, elt):\n",
    "        pass"
   ]
  },
  {
   "cell_type": "code",
   "execution_count": 118,
   "metadata": {},
   "outputs": [
    {
     "name": "stdout",
     "output_type": "stream",
     "text": [
      "La pile contient [2, 3]\n",
      "La pile contient [2]\n",
      "####################################################################################################\n",
      "La file contient [0, 1, 2]\n",
      "La file contient [0, 1, 2, 3]\n",
      "La file contient [1, 2, 3]\n"
     ]
    }
   ],
   "source": [
    "class Pile(object):\n",
    "    \n",
    "    def __init__(self,list):\n",
    "        self.pile = list\n",
    "        \n",
    "    def __str__(self):\n",
    "        return f\"La pile contient {self.pile}\"\n",
    "    \n",
    "    def push(self, element):\n",
    "        \"\"\"Insérer un élément au sommet de la pile (Push)\"\"\"\n",
    "        return self.pile.append(element)\n",
    " \n",
    "    def pop(self):\n",
    "        \"\"\"Supprimer l’élément de sommet de la pile (Pop)\"\"\"\n",
    "        try:\n",
    "            return self.pile.pop()\n",
    "        except IndexError:\n",
    "            print(\"Pile vide\")\n",
    "    \n",
    "    \n",
    "class File(object):\n",
    "    \n",
    "    def __init__(self,list):\n",
    "        self.file = list\n",
    "        \n",
    "    def __str__(self):\n",
    "        return f\"La file contient {self.file}\"\n",
    "    \n",
    "    def push(self, element):\n",
    "        \"\"\"Insérer un élément à la queue d’une file\"\"\"\n",
    "        return self.file.append(element)\n",
    " \n",
    "    def pop(self):\n",
    "        \"\"\"Supprimer l’élément de la tete une file\"\"\"\n",
    "        try:\n",
    "            return self.file.pop(0)\n",
    "        except IndexError:\n",
    "            print(\"File vide\")\n",
    "            \n",
    "p = Pile([])\n",
    "p.push(2)\n",
    "p.push(3)\n",
    "print(p)\n",
    "p.pop()\n",
    "print(p)\n",
    "\n",
    "print(\"#\"*100)\n",
    "\n",
    "f = File([0,1,2])\n",
    "print(f)\n",
    "f.push(3)\n",
    "print(f)\n",
    "f.pop()\n",
    "print(f)"
   ]
  },
  {
   "cell_type": "markdown",
   "metadata": {},
   "source": [
    "# Ex4: \n",
    "1. Objectifs : préparer le calcul de l’ensemble de Mandelbrot, en utilisant directement les nombres complexes\n",
    "\n",
    "Dans une classe **Mandelbrot**\n",
    "* Programmer une methode f(z,c)qui pour z et c, des nombres complexes donnés,renvoie z^2+c\n",
    "* Programme une methode iterer(c) qui pour un nombre complexe c donné, renvoie le nombre d’itérations qu’il a fallu pour que la suite(zn) s’échappe « à l’infini » ; si au bout d’un certain nombre d’itérations la suite ne s’échappe pas, la fonction renvoie 0\n",
    "\n",
    "* Programme une fonctionf(x,y,a,b) qui pour x,y,a,b, des nombres réels, calcule x′=x^2−y^2+a et y′=2x y+b et renvoie les deux nombres réels x′et y′.\n",
    "\n",
    "* Programme une fonctioniterer(a,b) qui pour un couple de réel(a,b) donné, renvoie le nombre d’itérations qu’il a fallu pour que la suite(xn,yn)s’échappe « à l’infini » ; si au bout d’un certain nombre d’itérations la suite ne s’échappe pas, la fonction renvoie 0.\n",
    "\n",
    "En utilisant matplotlib :\n",
    "* Programme une fonctionafficher_pixel(i,j,couleur)qui affiche un pixel coloré en position(i,j)\n",
    "* Programme une fonctionchoix_couleur(i)qui renvoie une couleur en fonction du nombrei(quicorrespondra au nombre d’itérations)\n",
    "* Définis des variables xmin,xmax,ymin,ymax qui correspondent à la zone de l’ensemble de Mandel-brot à visualiser."
   ]
  },
  {
   "cell_type": "markdown",
   "metadata": {},
   "source": [
    "$x_0$ = $y_0$ = 0 \\\n",
    "$x_{n+1}$ = $x_n^2$ - $y_n^2$ + $c_x$ \\\n",
    "$y_{n+1}$ = 2.$x_n$.$y_n$ + $c_y$ \\\n",
    "$z_{n+1}=z_n^2+c$\\\n",
    "c $\\in$ $M$ $\\Rightarrow$ $\\sqrt{x_n^2+y_n^2} \\lt 2$ $\\Leftrightarrow$ $|z_n| \\lt 2$"
   ]
  },
  {
   "cell_type": "code",
   "execution_count": 65,
   "metadata": {
    "scrolled": true
   },
   "outputs": [
    {
     "data": {
      "image/png": "[encoded data removed]",
      "text/plain": [
       "<Figure size 432x288 with 1 Axes>"
      ]
     },
     "metadata": {
      "needs_background": "light"
     },
     "output_type": "display_data"
    }
   ],
   "source": [
    "import matplotlib.pyplot as plt\n",
    "import numpy as np\n",
    "\n",
    "def f(z,c):\n",
    "    return z*z + c\n",
    "\n",
    "def iterer(c,n):\n",
    "    z = c\n",
    "    for i in range(n):\n",
    "        z = f(z,c)\n",
    "        if abs(z) > 2.0:\n",
    "            return i+1\n",
    "    return 0\n",
    "\n",
    "def afficher_pixel(i,j,n):\n",
    "    plt.scatter(i,j,facecolor = couleur(n))\n",
    "\n",
    "def couleur(i):\n",
    "    if i != 0:\n",
    "        return (0.5,0.8,1/i)\n",
    "    else:\n",
    "        return (0,0,0)\n",
    "            \n",
    "pas = 0.05\n",
    "for i in np.arange(-2,2,pas):\n",
    "    for j in np.arange(-2,2,pas):\n",
    "        n = iterer(complex(i,j),100)\n",
    "        afficher_pixel(i,j,n)\n",
    "        \n",
    "plt.show()"
   ]
  }
 ],
 "metadata": {
  "kernelspec": {
   "display_name": "Python 3",
   "language": "python",
   "name": "python3"
  },
  "language_info": {
   "codemirror_mode": {
    "name": "ipython",
    "version": 3
   },
   "file_extension": ".py",
   "mimetype": "text/x-python",
   "name": "python",
   "nbconvert_exporter": "python",
   "pygments_lexer": "ipython3",
   "version": "3.8.3"
  }
 },
 "nbformat": 4,
 "nbformat_minor": 2
}
